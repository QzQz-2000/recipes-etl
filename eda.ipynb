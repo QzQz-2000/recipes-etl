{
 "cells": [
  {
   "cell_type": "code",
   "execution_count": 2,
   "metadata": {},
   "outputs": [],
   "source": [
    "import pandas as pd"
   ]
  },
  {
   "cell_type": "markdown",
   "metadata": {},
   "source": [
    "### Dataset"
   ]
  },
  {
   "cell_type": "code",
   "execution_count": 3,
   "metadata": {},
   "outputs": [],
   "source": [
    "df = pd.read_csv('recipes.csv', index_col=None)"
   ]
  },
  {
   "cell_type": "code",
   "execution_count": 4,
   "metadata": {},
   "outputs": [
    {
     "data": {
      "text/html": [
       "<div>\n",
       "<style scoped>\n",
       "    .dataframe tbody tr th:only-of-type {\n",
       "        vertical-align: middle;\n",
       "    }\n",
       "\n",
       "    .dataframe tbody tr th {\n",
       "        vertical-align: top;\n",
       "    }\n",
       "\n",
       "    .dataframe thead th {\n",
       "        text-align: right;\n",
       "    }\n",
       "</style>\n",
       "<table border=\"1\" class=\"dataframe\">\n",
       "  <thead>\n",
       "    <tr style=\"text-align: right;\">\n",
       "      <th></th>\n",
       "      <th>name</th>\n",
       "      <th>ingredients</th>\n",
       "      <th>url</th>\n",
       "      <th>image</th>\n",
       "      <th>cookTime</th>\n",
       "      <th>recipeYield</th>\n",
       "      <th>datePublished</th>\n",
       "      <th>prepTime</th>\n",
       "      <th>description</th>\n",
       "    </tr>\n",
       "  </thead>\n",
       "  <tbody>\n",
       "    <tr>\n",
       "      <th>0</th>\n",
       "      <td>Easter Leftover Sandwich</td>\n",
       "      <td>12 whole Hard Boiled Eggs\\n1/2 cup Mayonnaise\\...</td>\n",
       "      <td>http://thepioneerwoman.com/cooking/2013/04/eas...</td>\n",
       "      <td>http://static.thepioneerwoman.com/cooking/file...</td>\n",
       "      <td>PT</td>\n",
       "      <td>8</td>\n",
       "      <td>2013-04-01</td>\n",
       "      <td>PT15M</td>\n",
       "      <td>Got leftover Easter eggs?    Got leftover East...</td>\n",
       "    </tr>\n",
       "    <tr>\n",
       "      <th>1</th>\n",
       "      <td>Pasta with Pesto Cream Sauce</td>\n",
       "      <td>3/4 cups Fresh Basil Leaves\\n1/2 cup Grated Pa...</td>\n",
       "      <td>http://thepioneerwoman.com/cooking/2011/06/pas...</td>\n",
       "      <td>http://static.thepioneerwoman.com/cooking/file...</td>\n",
       "      <td>PT10M</td>\n",
       "      <td>8</td>\n",
       "      <td>2011-06-06</td>\n",
       "      <td>PT6M</td>\n",
       "      <td>I finally have basil in my garden. Basil I can...</td>\n",
       "    </tr>\n",
       "    <tr>\n",
       "      <th>2</th>\n",
       "      <td>Herb Roasted Pork Tenderloin with Preserves</td>\n",
       "      <td>2 whole Pork Tenderloins\\n Salt And Pepper, to...</td>\n",
       "      <td>http://thepioneerwoman.com/cooking/2011/09/her...</td>\n",
       "      <td>http://static.thepioneerwoman.com/cooking/file...</td>\n",
       "      <td>PT15M</td>\n",
       "      <td>12</td>\n",
       "      <td>2011-09-15</td>\n",
       "      <td>PT5M</td>\n",
       "      <td>This was yummy. And easy. And pretty! And it t...</td>\n",
       "    </tr>\n",
       "    <tr>\n",
       "      <th>3</th>\n",
       "      <td>Chicken Florentine Pasta</td>\n",
       "      <td>1 pound Penne\\n4 whole Boneless, Skinless Chic...</td>\n",
       "      <td>http://thepioneerwoman.com/cooking/2012/04/chi...</td>\n",
       "      <td>http://static.thepioneerwoman.com/cooking/file...</td>\n",
       "      <td>PT20M</td>\n",
       "      <td>10</td>\n",
       "      <td>2012-04-23</td>\n",
       "      <td>PT10M</td>\n",
       "      <td>I made this for a late lunch Saturday, and it ...</td>\n",
       "    </tr>\n",
       "    <tr>\n",
       "      <th>4</th>\n",
       "      <td>Perfect Iced Coffee</td>\n",
       "      <td>1 pound Ground Coffee (good, Rich Roast)\\n8 qu...</td>\n",
       "      <td>http://thepioneerwoman.com/cooking/2011/06/per...</td>\n",
       "      <td>http://static.thepioneerwoman.com/cooking/file...</td>\n",
       "      <td>PT</td>\n",
       "      <td>24</td>\n",
       "      <td>2011-06-13</td>\n",
       "      <td>PT8H</td>\n",
       "      <td>Iced coffee is my life. When I wake up, often ...</td>\n",
       "    </tr>\n",
       "  </tbody>\n",
       "</table>\n",
       "</div>"
      ],
      "text/plain": [
       "                                          name  \\\n",
       "0                     Easter Leftover Sandwich   \n",
       "1                 Pasta with Pesto Cream Sauce   \n",
       "2  Herb Roasted Pork Tenderloin with Preserves   \n",
       "3                     Chicken Florentine Pasta   \n",
       "4                          Perfect Iced Coffee   \n",
       "\n",
       "                                         ingredients  \\\n",
       "0  12 whole Hard Boiled Eggs\\n1/2 cup Mayonnaise\\...   \n",
       "1  3/4 cups Fresh Basil Leaves\\n1/2 cup Grated Pa...   \n",
       "2  2 whole Pork Tenderloins\\n Salt And Pepper, to...   \n",
       "3  1 pound Penne\\n4 whole Boneless, Skinless Chic...   \n",
       "4  1 pound Ground Coffee (good, Rich Roast)\\n8 qu...   \n",
       "\n",
       "                                                 url  \\\n",
       "0  http://thepioneerwoman.com/cooking/2013/04/eas...   \n",
       "1  http://thepioneerwoman.com/cooking/2011/06/pas...   \n",
       "2  http://thepioneerwoman.com/cooking/2011/09/her...   \n",
       "3  http://thepioneerwoman.com/cooking/2012/04/chi...   \n",
       "4  http://thepioneerwoman.com/cooking/2011/06/per...   \n",
       "\n",
       "                                               image cookTime recipeYield  \\\n",
       "0  http://static.thepioneerwoman.com/cooking/file...       PT           8   \n",
       "1  http://static.thepioneerwoman.com/cooking/file...    PT10M           8   \n",
       "2  http://static.thepioneerwoman.com/cooking/file...    PT15M          12   \n",
       "3  http://static.thepioneerwoman.com/cooking/file...    PT20M          10   \n",
       "4  http://static.thepioneerwoman.com/cooking/file...       PT          24   \n",
       "\n",
       "  datePublished prepTime                                        description  \n",
       "0    2013-04-01    PT15M  Got leftover Easter eggs?    Got leftover East...  \n",
       "1    2011-06-06     PT6M  I finally have basil in my garden. Basil I can...  \n",
       "2    2011-09-15     PT5M  This was yummy. And easy. And pretty! And it t...  \n",
       "3    2012-04-23    PT10M  I made this for a late lunch Saturday, and it ...  \n",
       "4    2011-06-13     PT8H  Iced coffee is my life. When I wake up, often ...  "
      ]
     },
     "execution_count": 4,
     "metadata": {},
     "output_type": "execute_result"
    }
   ],
   "source": [
    "df.head()"
   ]
  },
  {
   "cell_type": "code",
   "execution_count": 5,
   "metadata": {},
   "outputs": [
    {
     "name": "stdout",
     "output_type": "stream",
     "text": [
      "<class 'pandas.core.frame.DataFrame'>\n",
      "RangeIndex: 1042 entries, 0 to 1041\n",
      "Data columns (total 9 columns):\n",
      " #   Column         Non-Null Count  Dtype \n",
      "---  ------         --------------  ----- \n",
      " 0   name           1039 non-null   object\n",
      " 1   ingredients    1042 non-null   object\n",
      " 2   url            1042 non-null   object\n",
      " 3   image          1042 non-null   object\n",
      " 4   cookTime       716 non-null    object\n",
      " 5   recipeYield    856 non-null    object\n",
      " 6   datePublished  1042 non-null   object\n",
      " 7   prepTime       739 non-null    object\n",
      " 8   description    1042 non-null   object\n",
      "dtypes: object(9)\n",
      "memory usage: 73.4+ KB\n"
     ]
    }
   ],
   "source": [
    "df.info()"
   ]
  },
  {
   "cell_type": "code",
   "execution_count": 6,
   "metadata": {},
   "outputs": [
    {
     "data": {
      "text/plain": [
       "(1042, 9)"
      ]
     },
     "execution_count": 6,
     "metadata": {},
     "output_type": "execute_result"
    }
   ],
   "source": [
    "df.shape"
   ]
  },
  {
   "cell_type": "code",
   "execution_count": 7,
   "metadata": {},
   "outputs": [
    {
     "data": {
      "text/html": [
       "<div>\n",
       "<style scoped>\n",
       "    .dataframe tbody tr th:only-of-type {\n",
       "        vertical-align: middle;\n",
       "    }\n",
       "\n",
       "    .dataframe tbody tr th {\n",
       "        vertical-align: top;\n",
       "    }\n",
       "\n",
       "    .dataframe thead th {\n",
       "        text-align: right;\n",
       "    }\n",
       "</style>\n",
       "<table border=\"1\" class=\"dataframe\">\n",
       "  <thead>\n",
       "    <tr style=\"text-align: right;\">\n",
       "      <th></th>\n",
       "      <th>name</th>\n",
       "      <th>ingredients</th>\n",
       "      <th>url</th>\n",
       "      <th>image</th>\n",
       "      <th>cookTime</th>\n",
       "      <th>recipeYield</th>\n",
       "      <th>datePublished</th>\n",
       "      <th>prepTime</th>\n",
       "      <th>description</th>\n",
       "    </tr>\n",
       "  </thead>\n",
       "  <tbody>\n",
       "    <tr>\n",
       "      <th>count</th>\n",
       "      <td>1039</td>\n",
       "      <td>1042</td>\n",
       "      <td>1042</td>\n",
       "      <td>1042</td>\n",
       "      <td>716</td>\n",
       "      <td>856</td>\n",
       "      <td>1042</td>\n",
       "      <td>739</td>\n",
       "      <td>1042</td>\n",
       "    </tr>\n",
       "    <tr>\n",
       "      <th>unique</th>\n",
       "      <td>1037</td>\n",
       "      <td>1028</td>\n",
       "      <td>1042</td>\n",
       "      <td>1036</td>\n",
       "      <td>41</td>\n",
       "      <td>223</td>\n",
       "      <td>915</td>\n",
       "      <td>37</td>\n",
       "      <td>1042</td>\n",
       "    </tr>\n",
       "    <tr>\n",
       "      <th>top</th>\n",
       "      <td>Creamed Spinach</td>\n",
       "      <td>Doughnuts\\n1-1/8 cup Whole Milk, Warm\\n1/4 cu...</td>\n",
       "      <td>http://www.101cookbooks.com/archives/fennel-mu...</td>\n",
       "      <td>http://www.101cookbooks.com/mt-static/images/f...</td>\n",
       "      <td>PT15M</td>\n",
       "      <td>8</td>\n",
       "      <td>2007-06-02</td>\n",
       "      <td>PT10M</td>\n",
       "      <td>A fennel mushroom recipe inspired by one of my...</td>\n",
       "    </tr>\n",
       "    <tr>\n",
       "      <th>freq</th>\n",
       "      <td>2</td>\n",
       "      <td>2</td>\n",
       "      <td>1</td>\n",
       "      <td>7</td>\n",
       "      <td>96</td>\n",
       "      <td>144</td>\n",
       "      <td>4</td>\n",
       "      <td>171</td>\n",
       "      <td>1</td>\n",
       "    </tr>\n",
       "  </tbody>\n",
       "</table>\n",
       "</div>"
      ],
      "text/plain": [
       "                   name                                        ingredients  \\\n",
       "count              1039                                               1042   \n",
       "unique             1037                                               1028   \n",
       "top     Creamed Spinach   Doughnuts\\n1-1/8 cup Whole Milk, Warm\\n1/4 cu...   \n",
       "freq                  2                                                  2   \n",
       "\n",
       "                                                      url  \\\n",
       "count                                                1042   \n",
       "unique                                               1042   \n",
       "top     http://www.101cookbooks.com/archives/fennel-mu...   \n",
       "freq                                                    1   \n",
       "\n",
       "                                                    image cookTime  \\\n",
       "count                                                1042      716   \n",
       "unique                                               1036       41   \n",
       "top     http://www.101cookbooks.com/mt-static/images/f...    PT15M   \n",
       "freq                                                    7       96   \n",
       "\n",
       "       recipeYield datePublished prepTime  \\\n",
       "count          856          1042      739   \n",
       "unique         223           915       37   \n",
       "top              8    2007-06-02    PT10M   \n",
       "freq           144             4      171   \n",
       "\n",
       "                                              description  \n",
       "count                                                1042  \n",
       "unique                                               1042  \n",
       "top     A fennel mushroom recipe inspired by one of my...  \n",
       "freq                                                    1  "
      ]
     },
     "execution_count": 7,
     "metadata": {},
     "output_type": "execute_result"
    }
   ],
   "source": [
    "df.describe()"
   ]
  },
  {
   "cell_type": "code",
   "execution_count": 9,
   "metadata": {},
   "outputs": [
    {
     "data": {
      "text/plain": [
       "0    12 whole Hard Boiled Eggs\\n1/2 cup Mayonnaise\\...\n",
       "1    3/4 cups Fresh Basil Leaves\\n1/2 cup Grated Pa...\n",
       "2    2 whole Pork Tenderloins\\n Salt And Pepper, to...\n",
       "3    1 pound Penne\\n4 whole Boneless, Skinless Chic...\n",
       "4    1 pound Ground Coffee (good, Rich Roast)\\n8 qu...\n",
       "Name: ingredients, dtype: object"
      ]
     },
     "execution_count": 9,
     "metadata": {},
     "output_type": "execute_result"
    }
   ],
   "source": [
    "df['ingredients'].head()"
   ]
  },
  {
   "cell_type": "code",
   "execution_count": 10,
   "metadata": {},
   "outputs": [
    {
     "data": {
      "text/plain": [
       "0       PT\n",
       "1    PT10M\n",
       "2    PT15M\n",
       "3    PT20M\n",
       "4       PT\n",
       "Name: cookTime, dtype: object"
      ]
     },
     "execution_count": 10,
     "metadata": {},
     "output_type": "execute_result"
    }
   ],
   "source": [
    "df['cookTime'].head()"
   ]
  },
  {
   "cell_type": "code",
   "execution_count": 11,
   "metadata": {},
   "outputs": [
    {
     "data": {
      "text/plain": [
       "0    PT15M\n",
       "1     PT6M\n",
       "2     PT5M\n",
       "3    PT10M\n",
       "4     PT8H\n",
       "Name: prepTime, dtype: object"
      ]
     },
     "execution_count": 11,
     "metadata": {},
     "output_type": "execute_result"
    }
   ],
   "source": [
    "df['prepTime'].head()"
   ]
  },
  {
   "cell_type": "markdown",
   "metadata": {},
   "source": [
    "### Result"
   ]
  },
  {
   "cell_type": "code",
   "execution_count": 52,
   "metadata": {},
   "outputs": [],
   "source": [
    "result_df = pd.read_csv('final_recipes.csv')"
   ]
  },
  {
   "cell_type": "code",
   "execution_count": 54,
   "metadata": {},
   "outputs": [
    {
     "data": {
      "text/html": [
       "<div>\n",
       "<style scoped>\n",
       "    .dataframe tbody tr th:only-of-type {\n",
       "        vertical-align: middle;\n",
       "    }\n",
       "\n",
       "    .dataframe tbody tr th {\n",
       "        vertical-align: top;\n",
       "    }\n",
       "\n",
       "    .dataframe thead th {\n",
       "        text-align: right;\n",
       "    }\n",
       "</style>\n",
       "<table border=\"1\" class=\"dataframe\">\n",
       "  <thead>\n",
       "    <tr style=\"text-align: right;\">\n",
       "      <th></th>\n",
       "      <th>name</th>\n",
       "      <th>ingredients</th>\n",
       "      <th>url</th>\n",
       "      <th>image</th>\n",
       "      <th>cookTime</th>\n",
       "      <th>recipeYield</th>\n",
       "      <th>datePublished</th>\n",
       "      <th>prepTime</th>\n",
       "      <th>description</th>\n",
       "      <th>difficulty</th>\n",
       "    </tr>\n",
       "  </thead>\n",
       "  <tbody>\n",
       "    <tr>\n",
       "      <th>0</th>\n",
       "      <td>Easy Green Chile Enchiladas</td>\n",
       "      <td>1 whole Onion, Diced\\n2 Tablespoons Butter\\n1 ...</td>\n",
       "      <td>http://thepioneerwoman.com/cooking/2012/05/eas...</td>\n",
       "      <td>http://static.thepioneerwoman.com/cooking/file...</td>\n",
       "      <td>PT10M</td>\n",
       "      <td>4</td>\n",
       "      <td>2012-05-31</td>\n",
       "      <td>PT5M</td>\n",
       "      <td>When I was in Albuquerque with Marlboro Man an...</td>\n",
       "      <td>Easy</td>\n",
       "    </tr>\n",
       "    <tr>\n",
       "      <th>1</th>\n",
       "      <td>Bacon-Wrapped Scallops with Chili Butter</td>\n",
       "      <td>2 pounds Large Scallops\\n1/2 pound Bacon, Cut ...</td>\n",
       "      <td>http://thepioneerwoman.com/cooking/2012/01/bac...</td>\n",
       "      <td>http://static.thepioneerwoman.com/cooking/file...</td>\n",
       "      <td>PT20M</td>\n",
       "      <td>8</td>\n",
       "      <td>2012-01-19</td>\n",
       "      <td>PT15M</td>\n",
       "      <td>I made these beautiful, tasty little suckers b...</td>\n",
       "      <td>Medium</td>\n",
       "    </tr>\n",
       "    <tr>\n",
       "      <th>2</th>\n",
       "      <td>Spicy Stewed Beef with Creamy Cheddar Grits</td>\n",
       "      <td>2 Tablespoons Canola Oil\\n2 Tablespoons Butter...</td>\n",
       "      <td>http://thepioneerwoman.com/cooking/2012/01/spi...</td>\n",
       "      <td>http://static.thepioneerwoman.com/cooking/file...</td>\n",
       "      <td>PT3H</td>\n",
       "      <td>12</td>\n",
       "      <td>2012-01-30</td>\n",
       "      <td>PT20M</td>\n",
       "      <td>My oh my, was this good. Ultra spicy, seriousl...</td>\n",
       "      <td>Hard</td>\n",
       "    </tr>\n",
       "    <tr>\n",
       "      <th>3</th>\n",
       "      <td>Vegetarian Lettuce Wraps</td>\n",
       "      <td>2 teaspoons Peanut Or Olive Oil\\n1 package (ab...</td>\n",
       "      <td>http://thepioneerwoman.com/cooking/2012/02/veg...</td>\n",
       "      <td>http://static.thepioneerwoman.com/cooking/file...</td>\n",
       "      <td>PT15M</td>\n",
       "      <td>6</td>\n",
       "      <td>2012-02-22</td>\n",
       "      <td>PT5M</td>\n",
       "      <td>Today is Ash Wednesday, the beginning of Lent,...</td>\n",
       "      <td>Easy</td>\n",
       "    </tr>\n",
       "    <tr>\n",
       "      <th>4</th>\n",
       "      <td>Grillin’ Recipe Contest Winners!</td>\n",
       "      <td>4 whole Ribeye, Hanger, Flat Iron, Or Strip St...</td>\n",
       "      <td>http://thepioneerwoman.com/cooking/2012/05/gri...</td>\n",
       "      <td>http://static.thepioneerwoman.com/cooking/file...</td>\n",
       "      <td>PT5M</td>\n",
       "      <td>4</td>\n",
       "      <td>2012-05-17</td>\n",
       "      <td>PT10M</td>\n",
       "      <td>Before I share my fourth and final grilling re...</td>\n",
       "      <td>Easy</td>\n",
       "    </tr>\n",
       "  </tbody>\n",
       "</table>\n",
       "</div>"
      ],
      "text/plain": [
       "                                          name  \\\n",
       "0                  Easy Green Chile Enchiladas   \n",
       "1     Bacon-Wrapped Scallops with Chili Butter   \n",
       "2  Spicy Stewed Beef with Creamy Cheddar Grits   \n",
       "3                     Vegetarian Lettuce Wraps   \n",
       "4             Grillin’ Recipe Contest Winners!   \n",
       "\n",
       "                                         ingredients  \\\n",
       "0  1 whole Onion, Diced\\n2 Tablespoons Butter\\n1 ...   \n",
       "1  2 pounds Large Scallops\\n1/2 pound Bacon, Cut ...   \n",
       "2  2 Tablespoons Canola Oil\\n2 Tablespoons Butter...   \n",
       "3  2 teaspoons Peanut Or Olive Oil\\n1 package (ab...   \n",
       "4  4 whole Ribeye, Hanger, Flat Iron, Or Strip St...   \n",
       "\n",
       "                                                 url  \\\n",
       "0  http://thepioneerwoman.com/cooking/2012/05/eas...   \n",
       "1  http://thepioneerwoman.com/cooking/2012/01/bac...   \n",
       "2  http://thepioneerwoman.com/cooking/2012/01/spi...   \n",
       "3  http://thepioneerwoman.com/cooking/2012/02/veg...   \n",
       "4  http://thepioneerwoman.com/cooking/2012/05/gri...   \n",
       "\n",
       "                                               image cookTime recipeYield  \\\n",
       "0  http://static.thepioneerwoman.com/cooking/file...    PT10M           4   \n",
       "1  http://static.thepioneerwoman.com/cooking/file...    PT20M           8   \n",
       "2  http://static.thepioneerwoman.com/cooking/file...     PT3H          12   \n",
       "3  http://static.thepioneerwoman.com/cooking/file...    PT15M           6   \n",
       "4  http://static.thepioneerwoman.com/cooking/file...     PT5M           4   \n",
       "\n",
       "  datePublished prepTime                                        description  \\\n",
       "0    2012-05-31     PT5M  When I was in Albuquerque with Marlboro Man an...   \n",
       "1    2012-01-19    PT15M  I made these beautiful, tasty little suckers b...   \n",
       "2    2012-01-30    PT20M  My oh my, was this good. Ultra spicy, seriousl...   \n",
       "3    2012-02-22     PT5M  Today is Ash Wednesday, the beginning of Lent,...   \n",
       "4    2012-05-17    PT10M  Before I share my fourth and final grilling re...   \n",
       "\n",
       "  difficulty  \n",
       "0       Easy  \n",
       "1     Medium  \n",
       "2       Hard  \n",
       "3       Easy  \n",
       "4       Easy  "
      ]
     },
     "execution_count": 54,
     "metadata": {},
     "output_type": "execute_result"
    }
   ],
   "source": [
    "result_df.head()"
   ]
  },
  {
   "cell_type": "code",
   "execution_count": 38,
   "metadata": {},
   "outputs": [
    {
     "data": {
      "text/plain": [
       "(92, 10)"
      ]
     },
     "execution_count": 38,
     "metadata": {},
     "output_type": "execute_result"
    }
   ],
   "source": [
    "result_df.shape"
   ]
  },
  {
   "cell_type": "code",
   "execution_count": 50,
   "metadata": {},
   "outputs": [
    {
     "name": "stdout",
     "output_type": "stream",
     "text": [
      "<class 'pandas.core.frame.DataFrame'>\n",
      "RangeIndex: 92 entries, 0 to 91\n",
      "Data columns (total 10 columns):\n",
      " #   Column         Non-Null Count  Dtype \n",
      "---  ------         --------------  ----- \n",
      " 0   name           92 non-null     object\n",
      " 1   ingredients    92 non-null     object\n",
      " 2   url            92 non-null     object\n",
      " 3   image          92 non-null     object\n",
      " 4   cookTime       58 non-null     object\n",
      " 5   recipeYield    72 non-null     object\n",
      " 6   datePublished  92 non-null     object\n",
      " 7   prepTime       59 non-null     object\n",
      " 8   description    92 non-null     object\n",
      " 9   difficulty     92 non-null     object\n",
      "dtypes: object(10)\n",
      "memory usage: 7.3+ KB\n"
     ]
    }
   ],
   "source": [
    "result_df.info()"
   ]
  },
  {
   "cell_type": "code",
   "execution_count": 51,
   "metadata": {},
   "outputs": [
    {
     "data": {
      "text/plain": [
       "difficulty\n",
       "Unknown    34\n",
       "Easy       21\n",
       "Hard       20\n",
       "Medium     17\n",
       "Name: count, dtype: int64"
      ]
     },
     "execution_count": 51,
     "metadata": {},
     "output_type": "execute_result"
    }
   ],
   "source": [
    "result_df['difficulty'].value_counts()"
   ]
  }
 ],
 "metadata": {
  "kernelspec": {
   "display_name": "venv",
   "language": "python",
   "name": "python3"
  },
  "language_info": {
   "codemirror_mode": {
    "name": "ipython",
    "version": 3
   },
   "file_extension": ".py",
   "mimetype": "text/x-python",
   "name": "python",
   "nbconvert_exporter": "python",
   "pygments_lexer": "ipython3",
   "version": "3.11.5"
  }
 },
 "nbformat": 4,
 "nbformat_minor": 2
}
